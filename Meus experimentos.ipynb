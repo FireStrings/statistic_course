{
 "cells": [
  {
   "cell_type": "code",
   "execution_count": 2,
   "id": "0cffe53b-4d38-4f87-b562-1d42bc053cfd",
   "metadata": {},
   "outputs": [],
   "source": [
    "import pandas as pd\n",
    "import numpy as np\n",
    "import seaborn as sns"
   ]
  },
  {
   "cell_type": "code",
   "execution_count": 3,
   "id": "78d9ab8f-e46f-4068-a238-93d1a05872f9",
   "metadata": {},
   "outputs": [],
   "source": [
    "dados = pd.read_csv('dados.csv')"
   ]
  },
  {
   "cell_type": "code",
   "execution_count": 4,
   "id": "c7e7f280-f2ed-40a9-8146-a30f29cb201b",
   "metadata": {},
   "outputs": [
    {
     "data": {
      "text/html": [
       "<div>\n",
       "<style scoped>\n",
       "    .dataframe tbody tr th:only-of-type {\n",
       "        vertical-align: middle;\n",
       "    }\n",
       "\n",
       "    .dataframe tbody tr th {\n",
       "        vertical-align: top;\n",
       "    }\n",
       "\n",
       "    .dataframe thead th {\n",
       "        text-align: right;\n",
       "    }\n",
       "</style>\n",
       "<table border=\"1\" class=\"dataframe\">\n",
       "  <thead>\n",
       "    <tr style=\"text-align: right;\">\n",
       "      <th></th>\n",
       "      <th>UF</th>\n",
       "      <th>Sexo</th>\n",
       "      <th>Idade</th>\n",
       "      <th>Cor</th>\n",
       "      <th>Anos de Estudo</th>\n",
       "      <th>Renda</th>\n",
       "      <th>Altura</th>\n",
       "    </tr>\n",
       "  </thead>\n",
       "  <tbody>\n",
       "    <tr>\n",
       "      <th>0</th>\n",
       "      <td>11</td>\n",
       "      <td>0</td>\n",
       "      <td>23</td>\n",
       "      <td>8</td>\n",
       "      <td>12</td>\n",
       "      <td>800</td>\n",
       "      <td>1.603808</td>\n",
       "    </tr>\n",
       "    <tr>\n",
       "      <th>1</th>\n",
       "      <td>11</td>\n",
       "      <td>1</td>\n",
       "      <td>23</td>\n",
       "      <td>2</td>\n",
       "      <td>12</td>\n",
       "      <td>1150</td>\n",
       "      <td>1.739790</td>\n",
       "    </tr>\n",
       "    <tr>\n",
       "      <th>2</th>\n",
       "      <td>11</td>\n",
       "      <td>1</td>\n",
       "      <td>35</td>\n",
       "      <td>8</td>\n",
       "      <td>15</td>\n",
       "      <td>880</td>\n",
       "      <td>1.760444</td>\n",
       "    </tr>\n",
       "    <tr>\n",
       "      <th>3</th>\n",
       "      <td>11</td>\n",
       "      <td>0</td>\n",
       "      <td>46</td>\n",
       "      <td>2</td>\n",
       "      <td>6</td>\n",
       "      <td>3500</td>\n",
       "      <td>1.783158</td>\n",
       "    </tr>\n",
       "    <tr>\n",
       "      <th>4</th>\n",
       "      <td>11</td>\n",
       "      <td>1</td>\n",
       "      <td>47</td>\n",
       "      <td>8</td>\n",
       "      <td>9</td>\n",
       "      <td>150</td>\n",
       "      <td>1.690631</td>\n",
       "    </tr>\n",
       "  </tbody>\n",
       "</table>\n",
       "</div>"
      ],
      "text/plain": [
       "   UF  Sexo  Idade  Cor  Anos de Estudo  Renda    Altura\n",
       "0  11     0     23    8              12    800  1.603808\n",
       "1  11     1     23    2              12   1150  1.739790\n",
       "2  11     1     35    8              15    880  1.760444\n",
       "3  11     0     46    2               6   3500  1.783158\n",
       "4  11     1     47    8               9    150  1.690631"
      ]
     },
     "execution_count": 4,
     "metadata": {},
     "output_type": "execute_result"
    }
   ],
   "source": [
    "dados.head()"
   ]
  },
  {
   "cell_type": "code",
   "execution_count": 5,
   "id": "90e9a29d-46df-4e30-897f-0a3aa87f8a52",
   "metadata": {},
   "outputs": [
    {
     "data": {
      "text/plain": [
       "count    76840.000000\n",
       "mean         1.699512\n",
       "std          0.079717\n",
       "min          1.339245\n",
       "25%          1.645785\n",
       "50%          1.699325\n",
       "75%          1.753062\n",
       "max          2.028497\n",
       "Name: Altura, dtype: float64"
      ]
     },
     "execution_count": 5,
     "metadata": {},
     "output_type": "execute_result"
    }
   ],
   "source": [
    "dados.describe().Altura"
   ]
  },
  {
   "cell_type": "code",
   "execution_count": 6,
   "id": "1988cb63-835f-4b20-9227-4bad931bc46d",
   "metadata": {},
   "outputs": [],
   "source": [
    "dados_sample = dados.sample(n=1000)"
   ]
  },
  {
   "cell_type": "code",
   "execution_count": 8,
   "id": "20f70bf0-1a9c-4ecd-bcd2-854b24eedf2c",
   "metadata": {},
   "outputs": [
    {
     "data": {
      "text/plain": [
       "count    1000.000000\n",
       "mean        1.698157\n",
       "std         0.080262\n",
       "min         1.459491\n",
       "25%         1.641657\n",
       "50%         1.696591\n",
       "75%         1.751998\n",
       "max         1.982001\n",
       "Name: Altura, dtype: float64"
      ]
     },
     "execution_count": 8,
     "metadata": {},
     "output_type": "execute_result"
    }
   ],
   "source": [
    "dados_sample.describe().Altura"
   ]
  },
  {
   "cell_type": "code",
   "execution_count": 20,
   "id": "9ff9d9f2-067c-4faa-ae22-aee264f68b56",
   "metadata": {},
   "outputs": [
    {
     "name": "stdout",
     "output_type": "stream",
     "text": [
      "Média: 1.698157442322\n",
      "Desvio padrão: 0.08026178878315737\n",
      "Erro padrão: 0.002538100616341316\n",
      "Intervalo Mais: 1.703132119530029\n",
      "Intervalo Menos: 1.693182765113971\n"
     ]
    }
   ],
   "source": [
    "mean = dados_sample.Altura.mean()\n",
    "\n",
    "dados_sample[\"new_column\"] = (dados_sample.Altura - mean)**2\n",
    "s = dados_sample.new_column.sum() / (dados_sample.new_column.count()-1)\n",
    "std = np.sqrt(s)\n",
    "std_err = std / np.sqrt(dados_sample.new_column.count())\n",
    "\n",
    "#Para 95% de confiança para média, z critico (percentil de confiança) = 1,96\n",
    "z_critico = 1.96\n",
    "\n",
    "intervalo_mais = mean + (z_critico*std_err)\n",
    "intervalo_menos = mean - (z_critico*std_err)\n",
    "\n",
    "print(\"Média: \" + str(mean))\n",
    "print(\"Desvio padrão: \" + str(std))\n",
    "print(\"Erro padrão: \" + str(std_err))\n",
    "print(\"Intervalo Mais: \" + str(intervalo_mais))\n",
    "print(\"Intervalo Menos: \" + str(intervalo_menos))\n"
   ]
  },
  {
   "cell_type": "markdown",
   "id": "ec70cda3-41b0-4fff-a916-ad6c0cbfb013",
   "metadata": {},
   "source": [
    "Portanto, existe a probabilidade de 95% do intervalo de 1.69 a 1.7 conter a média de alturas."
   ]
  },
  {
   "cell_type": "code",
   "execution_count": null,
   "id": "bc61456a-baf1-497c-a42a-74cf34e75f27",
   "metadata": {},
   "outputs": [],
   "source": [
    "dados.Altura.max() - dados.Altura.min()"
   ]
  },
  {
   "cell_type": "code",
   "execution_count": 68,
   "id": "c693e72e-d248-4df1-a272-02012419ca40",
   "metadata": {},
   "outputs": [
    {
     "data": {
      "text/plain": [
       "count    76840.000000\n",
       "mean         1.699512\n",
       "std          0.079717\n",
       "min          1.339245\n",
       "25%          1.645785\n",
       "50%          1.699325\n",
       "75%          1.753062\n",
       "max          2.028497\n",
       "Name: Altura, dtype: float64"
      ]
     },
     "execution_count": 68,
     "metadata": {},
     "output_type": "execute_result"
    }
   ],
   "source": [
    "dados.Altura.describe()"
   ]
  },
  {
   "cell_type": "code",
   "execution_count": 11,
   "id": "695e4aad-e30d-4c52-a77a-a5604f179c71",
   "metadata": {},
   "outputs": [
    {
     "data": {
      "text/plain": [
       "<AxesSubplot:xlabel='Altura', ylabel='Count'>"
      ]
     },
     "execution_count": 11,
     "metadata": {},
     "output_type": "execute_result"
    },
    {
     "data": {
      "image/png": "[encoded data removed]",
      "text/plain": [
       "<Figure size 432x288 with 1 Axes>"
      ]
     },
     "metadata": {
      "needs_background": "light"
     },
     "output_type": "display_data"
    }
   ],
   "source": [
    "sns.histplot(data=dados, x=\"Altura\")"
   ]
  },
  {
   "cell_type": "markdown",
   "id": "ee8b724b-6f20-4650-9c59-d3eae4750003",
   "metadata": {},
   "source": [
    "### Experimento de estatistica"
   ]
  },
  {
   "cell_type": "code",
   "execution_count": 41,
   "id": "1b533086-0105-425d-a984-a8ff7a6dd855",
   "metadata": {},
   "outputs": [],
   "source": [
    "#Random\n",
    "import random\n",
    "\n",
    "l_choices = []\n",
    "for i in range(1000):\n",
    "    l_choices.append(random.choice(l))\n",
    "    \n",
    "def return_prob(l):\n",
    "    unique = list(set(l)) \n",
    "    d = {}\n",
    "    for i in unique:\n",
    "        count = len([x for x in l if x == i])\n",
    "        d[i] = count/len(l)\n",
    "    \n",
    "    return d\n",
    "return_prob(l_choices)"
   ]
  },
  {
   "cell_type": "code",
   "execution_count": 70,
   "id": "5ce5061a-e1d0-4f0a-a150-dd75f14b8b0e",
   "metadata": {},
   "outputs": [],
   "source": [
    "# Z-score\n",
    "# Usado para descrever quantos desvios padrões esta o valor em relação a média\n",
    "def z_score(x, mean, std):\n",
    "    return (x - mean) / std"
   ]
  },
  {
   "cell_type": "code",
   "execution_count": null,
   "id": "6a0beea1-dea0-4f60-96ee-3da261b0239a",
   "metadata": {},
   "outputs": [],
   "source": []
  },
  {
   "cell_type": "code",
   "execution_count": null,
   "id": "30acaacd-22f1-4e4d-8396-3b524acaaf22",
   "metadata": {},
   "outputs": [],
   "source": []
  }
 ],
 "metadata": {
  "kernelspec": {
   "display_name": "Python 3 (ipykernel)",
   "language": "python",
   "name": "python3"
  },
  "language_info": {
   "codemirror_mode": {
    "name": "ipython",
    "version": 3
   },
   "file_extension": ".py",
   "mimetype": "text/x-python",
   "name": "python",
   "nbconvert_exporter": "python",
   "pygments_lexer": "ipython3",
   "version": "3.6.9"
  }
 },
 "nbformat": 4,
 "nbformat_minor": 5
}
